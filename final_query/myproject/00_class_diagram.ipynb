{
 "cells": [
  {
   "cell_type": "markdown",
   "metadata": {},
   "source": [
    "## Setup\n",
    "```sh\n",
    "    conda install -c rmg pydot=1.2.2\n",
    "    conda install graphviz\n",
    "```\n",
    "Then add ```C:\\Anaconda\\Library\\bin\\graphviz``` to PATH"
   ]
  },
  {
   "cell_type": "code",
   "execution_count": 1,
   "metadata": {
    "collapsed": false
   },
   "outputs": [
    {
     "name": "stdout",
     "output_type": "stream",
     "text": [
      "{'IPKernelApp': {'extra_extension': u'django_extensions.management.notebook_extension', 'connection_file': u'C:\\\\Users\\\\Wasit\\\\AppData\\\\Roaming\\\\jupyter\\\\runtime\\\\kernel-9bab71bb-72d5-4fd8-abeb-bbf18fd0b96a.json'}}\n",
      "170603_095243\n"
     ]
    },
    {
     "data": {
      "text/markdown": [
       "<img src=\"diagrams\\170603_095243.png\",width=60,height=60>"
      ],
      "text/plain": [
       "<IPython.core.display.Markdown object>"
      ]
     },
     "metadata": {},
     "output_type": "display_data"
    }
   ],
   "source": [
    "from IPython.display import display, Markdown, Latex\n",
    "import pydot, time, subprocess, sys, os\n",
    "\n",
    "ROOT_PATH=os.path.abspath(\".\")\n",
    "manage = os.path.join(ROOT_PATH , \"manage.py\")\n",
    "diagram_dir=os.path.join(ROOT_PATH,\"diagrams\")\n",
    "if not os.path.exists(diagram_dir):\n",
    "    os.makedirs(diagram_dir)\n",
    "def in_ipynb():\n",
    "    try:\n",
    "        print get_ipython().config \n",
    "        return True\n",
    "    except NameError:\n",
    "        return False\n",
    "if in_ipynb():\n",
    "    timestr = time.strftime(\"%y%m%d_%H%M%S\")\n",
    "    print timestr\n",
    "    dotstr=subprocess.check_output([sys.executable, manage, \"graph_models\", \"-a\"])\n",
    "\n",
    "    (graph,) = pydot.graph_from_dot_data(dotstr)\n",
    "    graph.write_png( os.path.join(diagram_dir,(timestr + '.png')) )\n",
    "\n",
    "    md='''<img src=\"%s\",width=60,height=60>'''%os.path.join(\"diagrams\",(timestr + '.png'))\n",
    "    display(Markdown(md))"
   ]
  },
  {
   "cell_type": "code",
   "execution_count": null,
   "metadata": {
    "collapsed": true
   },
   "outputs": [],
   "source": []
  },
  {
   "cell_type": "code",
   "execution_count": null,
   "metadata": {
    "collapsed": true
   },
   "outputs": [],
   "source": []
  }
 ],
 "metadata": {
  "anaconda-cloud": {},
  "kernelspec": {
   "display_name": "Django Shell-Plus",
   "language": "python",
   "name": "django_extensions"
  },
  "language_info": {
   "codemirror_mode": {
    "name": "ipython",
    "version": 2
   },
   "file_extension": ".py",
   "mimetype": "text/x-python",
   "name": "python",
   "nbconvert_exporter": "python",
   "pygments_lexer": "ipython2",
   "version": "2.7.12"
  }
 },
 "nbformat": 4,
 "nbformat_minor": 1
}
