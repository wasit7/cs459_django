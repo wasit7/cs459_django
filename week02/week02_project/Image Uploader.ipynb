{
 "cells": [
  {
   "cell_type": "code",
   "execution_count": 17,
   "metadata": {
    "collapsed": true
   },
   "outputs": [],
   "source": [
    "import os"
   ]
  },
  {
   "cell_type": "code",
   "execution_count": 20,
   "metadata": {
    "collapsed": false
   },
   "outputs": [
    {
     "name": "stdout",
     "output_type": "stream",
     "text": [
      "..\\materials\\bert\n",
      "['adidas.jpg', 'alice_big.jpg', 'alien.jpg', 'animals.jpg', 'apple.jpg', 'ass.jpg', 'bang.jpg', 'batman.jpg', 'bear.jpg', 'beer.jpg', 'blackgold_marble.jpg', 'black_marble.jpg', 'blue_1.jpg', 'blue_fabric.jpg', 'breakfast.jpg', 'bringit.jpg', 'bunny_1.jpg', 'burberry_1.jpg', 'burberry_2.png', 'cactus.jpg', 'cactus2.jpg', 'cat.jpg', 'cat_1.png', 'cat_2.jpg', 'cat_3.jpg', 'cat_4.jpg', 'chanel.jpg', 'christmas_1.jpg', 'city_8bit.png', 'cloud_cartoon.jpg', 'cloud_purple.jpg', 'cupcake_rainbow.jpg', 'dear_dot.png', 'dog_1.jpg', 'donut_pink.jpg', 'donut_withe.jpg', 'draw_1.png', 'draw_2.png', 'draw_3.png', 'draw_4.png', 'eggs.jpg', 'food_8bit.jpg', 'food_mc.jpg', 'forest.jpg', 'frenchfries.jpg', 'fuji.jpg', 'fxxk.jpg', 'galaxy_1.jpg', 'galaxy_2.png', 'galaxy_3.jpg', 'galaxy_4.jpg', 'galaxy_5.jpg', 'galaxy_6.jpg', 'galaxy_7.jpg', 'ghost_1.jpg', 'ghost_2.jpg', 'godzilla.jpg', 'golden_marble.jpg', 'grid_black.jpg', 'grid_yellow.jpg', 'he.jpg', 'heart_8bit.jpg', 'hologram_1.jpg', 'hologram_2.jpg', 'hologram_3.jpg', 'hologram_4.jpg', 'ice.jpg', 'icecream_mint.jpg', 'icecream_pink.jpg', 'louis-vuitton.jpg', 'lv.jpg', 'marble_black.jpg', 'marble_white.jpg', 'mickey_1.jpg', 'mickey_2.jpg', 'Mountian.jpg', 'nike.jpg', 'nutella.jpg', 'ocean.jpg', 'oreo.jpg', 'panda.jpg', 'PANTONE_pinkblue.jpg', 'PANTONE_purple.jpg', 'penguin_big.png', 'photothumb.db', 'pineapple_1.jpg', 'pineapple_2.jpg', 'pizza.jpg', 'plain_blue.jpg', 'plain_crimsonred.jpg', 'plain_dark.jpg', 'plain_darkblue.jpg', 'plain_iceberg.jpg', 'plain_mint.jpg', 'plain_orange.jpg', 'plain_pistachio.jpg', 'plain_purple.jpg', 'plain_red.jpg', 'plain_rosered.jpg', 'plain_silver.jpg', 'plain_white.jpg', 'plain_yellow.jpg', 'pokemon_1.jpg', 'pokemon_2.jpg', 'pokemon_3.png', 'pooh.jpg', 'popcorn.jpg', 'power_ranger.jpg', 'rawbear.jpg', 'rilakkuma_pink.jpg', 'rocket_paper.jpg', 'sea.jpg', 'sea2.png', 'shark_pastel.jpg', 'she.jpg', 'simpson_1.jpg', 'skull_blur.jpg', 'sky.jpg', 'sky2.jpg', 'sky_dark.jpg', 'smoke_blackwhite.jpg', 'smoke_dark.jpg', 'smoke_redblue.jpg', 'smoke_silverred.jpg', 'smore.jpg', 'smore2.jpg', 'snowfall.jpg', 'spongebob_1.jpg', 'spongebob_2.jpg', 'starbucks_brown.jpg', 'starbucks_pink.jpg', 'starwar_1.jpg', 'starwar_2.jpg', 'starwar_3.jpg', 'superman.jpg', 'supreme.jpg', 'sushi.jpg', 'taro_green.jpg', 'turtle_ninja.jpg', 'underwater.jpg', 'unicorn_blue.jpg', 'univers11.jpg.jpg', 'universe.jpg', 'universe10.jpg.jpg', 'universe12.jpg.jpg', 'universe13.jpg.jpg', 'universe2.jpg', 'universe3.jpg', 'universe4.jpg', 'universe5.jpg.jpg', 'universe6.jpg.jpg', 'universe7.jpg.jpg', 'universe8.jpg.jpg', 'universe9.jpg.jpg', 'wavy_blue.jpg', 'we.jpg', 'whale.jpg', 'white_marble2.jpg', 'white_marble3.jpg']\n"
     ]
    }
   ],
   "source": [
    "path=os.path.join('..','materials','bert')\n",
    "print path\n",
    "all_img=os.listdir(path)\n",
    "print all_img"
   ]
  },
  {
   "cell_type": "code",
   "execution_count": 16,
   "metadata": {
    "collapsed": false
   },
   "outputs": [
    {
     "name": "stdout",
     "output_type": "stream",
     "text": [
      "/media/images/static_qr_code_without_logo.jpg\n",
      "/media/images/adidas.jpg\n",
      "/media/images/adidas_TL9nAkV.jpg\n",
      "/media/images/file_name\n",
      "/media/images/file_name.jpg\n"
     ]
    }
   ],
   "source": [
    "for i in Image.objects.all():\n",
    "    print i.image.url"
   ]
  },
  {
   "cell_type": "code",
   "execution_count": 12,
   "metadata": {
    "collapsed": false
   },
   "outputs": [
    {
     "name": "stdout",
     "output_type": "stream",
     "text": [
      "..\\materials\\bert\\adidas.jpg\n"
     ]
    }
   ],
   "source": [
    "fname=os.path.join(path,all_img[0])\n",
    "print fname"
   ]
  },
  {
   "cell_type": "code",
   "execution_count": 15,
   "metadata": {
    "collapsed": false
   },
   "outputs": [],
   "source": [
    "from django.core.files import File\n",
    "img=Image(description=\"some text\")\n",
    "f=File(open( fname, 'rb'))\n",
    "img.image.save(\"file_name.jpg\", f)"
   ]
  },
  {
   "cell_type": "code",
   "execution_count": null,
   "metadata": {
    "collapsed": true
   },
   "outputs": [],
   "source": []
  }
 ],
 "metadata": {
  "anaconda-cloud": {},
  "kernelspec": {
   "display_name": "Django Shell-Plus",
   "language": "python",
   "name": "python2"
  },
  "language_info": {
   "codemirror_mode": {
    "name": "ipython",
    "version": 2
   },
   "file_extension": ".py",
   "mimetype": "text/x-python",
   "name": "python",
   "nbconvert_exporter": "python",
   "pygments_lexer": "ipython2",
   "version": "2.7.12"
  }
 },
 "nbformat": 4,
 "nbformat_minor": 1
}
