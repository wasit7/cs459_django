{
 "cells": [
  {
   "cell_type": "code",
   "execution_count": 7,
   "metadata": {
    "collapsed": false
   },
   "outputs": [
    {
     "name": "stdout",
     "output_type": "stream",
     "text": [
      "ROOT_PATH: C:\\Users\\Wasit\\Documents\\GitHub\\cs459_django\\week04\\myproject\n",
      "C:\\Users\\Wasit\\Documents\\GitHub\\cs459_django\\week04\\myproject\\rent_input.xls\n"
     ]
    }
   ],
   "source": [
    "import os\n",
    "import re\n",
    "APP_NAME=\"myapp\"\n",
    "ROOT_PATH=os.path.abspath(\".\")\n",
    "print \"ROOT_PATH: %s\"%ROOT_PATH\n",
    "\n",
    "input_filename=os.path.join(ROOT_PATH,\"rent_input.xls\")\n",
    "print input_filename"
   ]
  },
  {
   "cell_type": "code",
   "execution_count": 8,
   "metadata": {
    "collapsed": false
   },
   "outputs": [],
   "source": [
    "import pandas as pd\n",
    "cvt={\n",
    "        0:int,\n",
    "        1:unicode,\n",
    "        2:unicode,\n",
    "        3:float,\n",
    "        4:unicode,\n",
    "        5:int,\n",
    "    }\n",
    "df_car=pd.read_excel(io=input_filename,sheetname=0,converters=cvt)"
   ]
  },
  {
   "cell_type": "code",
   "execution_count": 10,
   "metadata": {
    "collapsed": false
   },
   "outputs": [
    {
     "name": "stdout",
     "output_type": "stream",
     "text": [
      "   ID    CarMaker CarModel  CarPrice   CarColor  CarYear\n",
      "0   1  Mitsubishi     L200      9995        red     2001\n",
      "1   2        Mini   Cooper     12500        red     2005\n",
      "2   3         TVR   Tuscan     18000       blue     2003\n",
      "3   4         BMW       Z3     13995     silver     2002\n",
      "4   5      Toyota   Celica      4665  dark blue     1997\n",
      "5   6        Audi       TT     21995     silver     2005\n",
      "6   7    Mercedes     E320     15495      green     2004\n"
     ]
    }
   ],
   "source": [
    "print df_car"
   ]
  },
  {
   "cell_type": "code",
   "execution_count": 17,
   "metadata": {
    "collapsed": false
   },
   "outputs": [
    {
     "name": "stdout",
     "output_type": "stream",
     "text": [
      "k: 0, i:ID                   1\n",
      "CarMaker    Mitsubishi\n",
      "CarModel          L200\n",
      "CarPrice          9995\n",
      "CarColor           red\n",
      "CarYear           2001\n",
      "Name: 0, dtype: object\n",
      "------------------------------\n",
      "k: 1, i:ID               2\n",
      "CarMaker      Mini\n",
      "CarModel    Cooper\n",
      "CarPrice     12500\n",
      "CarColor       red\n",
      "CarYear       2005\n",
      "Name: 1, dtype: object\n",
      "------------------------------\n",
      "k: 2, i:ID               3\n",
      "CarMaker       TVR\n",
      "CarModel    Tuscan\n",
      "CarPrice     18000\n",
      "CarColor      blue\n",
      "CarYear       2003\n",
      "Name: 2, dtype: object\n",
      "------------------------------\n",
      "k: 3, i:ID               4\n",
      "CarMaker       BMW\n",
      "CarModel        Z3\n",
      "CarPrice     13995\n",
      "CarColor    silver\n",
      "CarYear       2002\n",
      "Name: 3, dtype: object\n",
      "------------------------------\n",
      "k: 4, i:ID                  5\n",
      "CarMaker       Toyota\n",
      "CarModel       Celica\n",
      "CarPrice         4665\n",
      "CarColor    dark blue\n",
      "CarYear          1997\n",
      "Name: 4, dtype: object\n",
      "------------------------------\n",
      "k: 5, i:ID               6\n",
      "CarMaker      Audi\n",
      "CarModel        TT\n",
      "CarPrice     21995\n",
      "CarColor    silver\n",
      "CarYear       2005\n",
      "Name: 5, dtype: object\n",
      "------------------------------\n",
      "k: 6, i:ID                 7\n",
      "CarMaker    Mercedes\n",
      "CarModel        E320\n",
      "CarPrice       15495\n",
      "CarColor       green\n",
      "CarYear         2004\n",
      "Name: 6, dtype: object\n",
      "------------------------------\n"
     ]
    }
   ],
   "source": [
    "for k,i in df_car.iterrows():\n",
    "    print \"k: %s, i:%s\\n%s\"%(k, i, \"-\"*30)"
   ]
  },
  {
   "cell_type": "code",
   "execution_count": null,
   "metadata": {
    "collapsed": true
   },
   "outputs": [],
   "source": []
  }
 ],
 "metadata": {
  "anaconda-cloud": {},
  "kernelspec": {
   "display_name": "Django Shell-Plus",
   "language": "python",
   "name": "python2"
  },
  "language_info": {
   "codemirror_mode": {
    "name": "ipython",
    "version": 2
   },
   "file_extension": ".py",
   "mimetype": "text/x-python",
   "name": "python",
   "nbconvert_exporter": "python",
   "pygments_lexer": "ipython2",
   "version": "2.7.12"
  }
 },
 "nbformat": 4,
 "nbformat_minor": 1
}
