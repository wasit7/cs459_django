{
 "cells": [
  {
   "cell_type": "markdown",
   "metadata": {},
   "source": [
    "# Query Pattern\n",
    "* What is total rental cost between 13/03/2014-24/03/2014?\n",
    "* How much money collected from the car id=2?\n"
   ]
  },
  {
   "cell_type": "markdown",
   "metadata": {},
   "source": [
    "# get by id"
   ]
  },
  {
   "cell_type": "code",
   "execution_count": 1,
   "metadata": {
    "collapsed": false
   },
   "outputs": [
    {
     "name": "stdout",
     "output_type": "stream",
     "text": [
      "id: 2, Ronald Cunningham\n"
     ]
    }
   ],
   "source": [
    "c=Customer.objects.get(id=2)\n",
    "print c"
   ]
  },
  {
   "cell_type": "markdown",
   "metadata": {},
   "source": [
    "# get all records"
   ]
  },
  {
   "cell_type": "code",
   "execution_count": 2,
   "metadata": {
    "collapsed": false
   },
   "outputs": [
    {
     "data": {
      "text/plain": [
       "[<Customer: id: 1, Alexandra Long>, <Customer: id: 2, Ronald Cunningham>, <Customer: id: 3, Jake Torres>, <Customer: id: 4, Woodrow Castillo>, <Customer: id: 5, Rolando Young>, <Customer: id: 6, Erick Gilbert>]"
      ]
     },
     "execution_count": 2,
     "metadata": {},
     "output_type": "execute_result"
    }
   ],
   "source": [
    "Customer.objects.all()"
   ]
  },
  {
   "cell_type": "markdown",
   "metadata": {},
   "source": [
    "# filter"
   ]
  },
  {
   "cell_type": "code",
   "execution_count": 4,
   "metadata": {
    "collapsed": false
   },
   "outputs": [
    {
     "name": "stderr",
     "output_type": "stream",
     "text": [
      "C:\\Anaconda\\lib\\site-packages\\django\\db\\models\\fields\\__init__.py:1453: RuntimeWarning: DateTimeField Rent.rent_date received a naive datetime (2014-03-13 00:00:00) while time zone support is active.\n",
      "  RuntimeWarning)\n",
      "\n",
      "C:\\Anaconda\\lib\\site-packages\\django\\db\\models\\fields\\__init__.py:1453: RuntimeWarning: DateTimeField Rent.rent_date received a naive datetime (2014-03-24 00:00:00) while time zone support is active.\n",
      "  RuntimeWarning)\n",
      "\n"
     ]
    },
    {
     "data": {
      "text/plain": [
       "[<Rent: id: 3>, <Rent: id: 4>, <Rent: id: 5>, <Rent: id: 6>, <Rent: id: 7>, <Rent: id: 8>, <Rent: id: 9>]"
      ]
     },
     "execution_count": 4,
     "metadata": {},
     "output_type": "execute_result"
    }
   ],
   "source": [
    "Rent.objects.filter(rent_date__range=[\"2014-03-13\", \"2014-03-24\"])"
   ]
  },
  {
   "cell_type": "code",
   "execution_count": 5,
   "metadata": {
    "collapsed": false
   },
   "outputs": [
    {
     "data": {
      "text/plain": [
       "[<Rent: id: 1>, <Rent: id: 2>, <Rent: id: 3>]"
      ]
     },
     "execution_count": 5,
     "metadata": {},
     "output_type": "execute_result"
    }
   ],
   "source": [
    "# rent that happended before or equal 13 March 2014\n",
    "Rent.objects.filter(rent_date__lte=\"2014-03-13\")"
   ]
  },
  {
   "cell_type": "code",
   "execution_count": 6,
   "metadata": {
    "collapsed": false
   },
   "outputs": [
    {
     "data": {
      "text/plain": [
       "[<Rent: id: 4>, <Rent: id: 5>, <Rent: id: 6>, <Rent: id: 7>, <Rent: id: 8>, <Rent: id: 9>, <Rent: id: 10>]"
      ]
     },
     "execution_count": 6,
     "metadata": {},
     "output_type": "execute_result"
    }
   ],
   "source": [
    "# rent that happended after 13 March 2014\n",
    "Rent.objects.filter(rent_date__gt=\"2014-03-13\")"
   ]
  },
  {
   "cell_type": "code",
   "execution_count": 12,
   "metadata": {
    "collapsed": false
   },
   "outputs": [
    {
     "name": "stdout",
     "output_type": "stream",
     "text": [
      "3309.50\n",
      "3309.50\n",
      "3309.50\n",
      "3309.50\n",
      "3309.50\n",
      "3309.50\n",
      "3309.50\n",
      "3309.50\n",
      "3309.50\n",
      "3309.50\n",
      "3309.50\n",
      "3309.50\n",
      "3309.50\n",
      "3309.50\n",
      "3309.50\n",
      "3309.50\n",
      "3309.50\n",
      "3309.50\n",
      "3309.50\n",
      "3309.50\n",
      "3309.50\n",
      "3309.50\n",
      "3309.50\n",
      "3309.50\n",
      "3309.50\n",
      "3309.50\n",
      "3309.50\n",
      "3309.50\n",
      "3309.50\n",
      "3309.50\n",
      "10 loops, best of 3: 1.78 ms per loop\n"
     ]
    }
   ],
   "source": [
    "%%timeit -n10\n",
    "total=0\n",
    "q=Rent.objects.filter(rent_date__range=[\"2014-03-13\", \"2014-03-24\"])\n",
    "for i in q:\n",
    "   total=total + i.cost\n",
    "print total"
   ]
  },
  {
   "cell_type": "code",
   "execution_count": 19,
   "metadata": {
    "collapsed": false
   },
   "outputs": [
    {
     "name": "stdout",
     "output_type": "stream",
     "text": [
      "10 loops, best of 3: 645 µs per loop\n"
     ]
    }
   ],
   "source": [
    "%%timeit -n10\n",
    "from django.db.models import Sum, Max, Min, Avg\n",
    "Rent.objects.filter(rent_date__range=[\"2014-03-13\", \"2014-03-24\"]).aggregate(Max('cost'))"
   ]
  },
  {
   "cell_type": "code",
   "execution_count": 20,
   "metadata": {
    "collapsed": false
   },
   "outputs": [
    {
     "data": {
      "text/plain": [
       "{'cost__max': Decimal('1310.00')}"
      ]
     },
     "execution_count": 20,
     "metadata": {},
     "output_type": "execute_result"
    }
   ],
   "source": [
    "Rent.objects.filter(rent_date__range=[\"2014-03-13\", \"2014-03-24\"]).aggregate(Max('cost'))"
   ]
  },
  {
   "cell_type": "markdown",
   "metadata": {},
   "source": [
    "# reverse relation"
   ]
  },
  {
   "cell_type": "code",
   "execution_count": 21,
   "metadata": {
    "collapsed": true
   },
   "outputs": [],
   "source": [
    "car=Car.objects.get(id=2)"
   ]
  },
  {
   "cell_type": "code",
   "execution_count": 22,
   "metadata": {
    "collapsed": false
   },
   "outputs": [
    {
     "data": {
      "text/plain": [
       "<Car: id: 2, Mini Cooper>"
      ]
     },
     "execution_count": 22,
     "metadata": {},
     "output_type": "execute_result"
    }
   ],
   "source": [
    "car"
   ]
  },
  {
   "cell_type": "code",
   "execution_count": 24,
   "metadata": {
    "collapsed": false
   },
   "outputs": [
    {
     "data": {
      "text/plain": [
       "[<Rent: id: 2>, <Rent: id: 4>, <Rent: id: 10>]"
      ]
     },
     "execution_count": 24,
     "metadata": {},
     "output_type": "execute_result"
    }
   ],
   "source": [
    "car.rent_set.all()"
   ]
  },
  {
   "cell_type": "code",
   "execution_count": 25,
   "metadata": {
    "collapsed": false
   },
   "outputs": [
    {
     "data": {
      "text/plain": [
       "{'cost__sum': Decimal('1525.00')}"
      ]
     },
     "execution_count": 25,
     "metadata": {},
     "output_type": "execute_result"
    }
   ],
   "source": [
    "car.rent_set.all().aggregate(Sum('cost'))"
   ]
  },
  {
   "cell_type": "code",
   "execution_count": null,
   "metadata": {
    "collapsed": true
   },
   "outputs": [],
   "source": []
  }
 ],
 "metadata": {
  "kernelspec": {
   "display_name": "Django Shell-Plus",
   "language": "python",
   "name": "django_extensions"
  },
  "language_info": {
   "codemirror_mode": {
    "name": "ipython",
    "version": 2
   },
   "file_extension": ".py",
   "mimetype": "text/x-python",
   "name": "python",
   "nbconvert_exporter": "python",
   "pygments_lexer": "ipython2",
   "version": "2.7.12"
  }
 },
 "nbformat": 4,
 "nbformat_minor": 1
}
